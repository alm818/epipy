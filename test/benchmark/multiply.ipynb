{
 "cells": [
  {
   "cell_type": "code",
   "execution_count": 1,
   "metadata": {},
   "outputs": [],
   "source": [
    "import numpy as np\n",
    "import cupy as cp\n",
    "from numba import jit, prange\n",
    "import timeit\n",
    "import matplotlib.pyplot as plt"
   ]
  },
  {
   "cell_type": "code",
   "execution_count": 2,
   "metadata": {},
   "outputs": [],
   "source": [
    "def multiply_base(a, b):\n",
    "    c = np.multiply(a, b)\n",
    "\n",
    "def multiply_cp(a, b):\n",
    "    c = cp.multiply(a, b)\n",
    "    \n",
    "@jit(nopython=True)\n",
    "def multiply_nb(a, b):\n",
    "    c = np.multiply(a, b)\n",
    "    \n",
    "@jit(nopython=True, parallel=True)\n",
    "def multiply_nb_parallel(a, b):\n",
    "    c = np.multiply(a, b)\n",
    "    \n",
    "@jit(nopython=True, parallel=True)\n",
    "def multiply_nb_parallel(a, b):\n",
    "    c = np.multiply(a, b)\n",
    "\n",
    "@jit(nopython=True, parallel=True, nogil=True)\n",
    "def multiply_nb_parallel_nogil(a, b):\n",
    "    c = np.multiply(a, b)"
   ]
  },
  {
   "cell_type": "code",
   "execution_count": 3,
   "metadata": {},
   "outputs": [
    {
     "name": "stdout",
     "output_type": "stream",
     "text": [
      "Start with size: 8\n",
      "Start with size: 16\n",
      "Start with size: 32\n",
      "Start with size: 64\n",
      "Start with size: 128\n",
      "Start with size: 256\n",
      "Start with size: 512\n",
      "Start with size: 1024\n",
      "Start with size: 2048\n",
      "Start with size: 4096\n",
      "Start with size: 8192\n",
      "Start with size: 16384\n",
      "Start with size: 32768\n",
      "Start with size: 65536\n",
      "Start with size: 131072\n",
      "Start with size: 262144\n",
      "Start with size: 524288\n",
      "Start with size: 1048576\n",
      "Start with size: 2097152\n",
      "Start with size: 4194304\n",
      "Start with size: 8388608\n",
      "Start with size: 16777216\n"
     ]
    }
   ],
   "source": [
    "N = [int(8*2**i) for i in range(22)]\n",
    "methods = [\"base\", \"cp\", \"nb\", \"nb_parallel\", \"nb_parallel_nogil\"]\n",
    "K = len(methods)\n",
    "funcs = [multiply_base, multiply_cp, multiply_nb, multiply_nb_parallel, multiply_nb_parallel_nogil]\n",
    "T = [[] for i in range(K)]\n",
    "for n in N:\n",
    "    print(\"Start with size:\", n)\n",
    "    a = np.random.rand(n, 1)\n",
    "    b = np.random.rand(n, 1)\n",
    "    ca = cp.array(a)\n",
    "    cb = cp.array(b)\n",
    "    \n",
    "    args = [(a,b), (ca,cb), (a,b), (a,b), (a,b)]\n",
    "    \n",
    "    for i in range(K):\n",
    "        t = %timeit -q -n 1 -r 3 -o funcs[i](*args[i])\n",
    "        T[i].append(t.average*1000)"
   ]
  },
  {
   "cell_type": "code",
   "execution_count": 4,
   "metadata": {},
   "outputs": [
    {
     "data": {
      "image/png": "[encoded data removed]",
      "text/plain": [
       "<Figure size 432x288 with 1 Axes>"
      ]
     },
     "metadata": {
      "needs_background": "light"
     },
     "output_type": "display_data"
    }
   ],
   "source": [
    "for i in range(K):\n",
    "    plt.plot(N[1:], T[i][1:], label=methods[i])\n",
    "plt.xlabel(\"Size\")\n",
    "plt.ylabel(\"Time(ms)\")\n",
    "plt.legend()\n",
    "plt.xscale('log')\n",
    "plt.show()"
   ]
  },
  {
   "cell_type": "code",
   "execution_count": null,
   "metadata": {},
   "outputs": [],
   "source": []
  }
 ],
 "metadata": {
  "kernelspec": {
   "display_name": "Python 3",
   "language": "python",
   "name": "python3"
  },
  "language_info": {
   "codemirror_mode": {
    "name": "ipython",
    "version": 3
   },
   "file_extension": ".py",
   "mimetype": "text/x-python",
   "name": "python",
   "nbconvert_exporter": "python",
   "pygments_lexer": "ipython3",
   "version": "3.6.9"
  }
 },
 "nbformat": 4,
 "nbformat_minor": 4
}
