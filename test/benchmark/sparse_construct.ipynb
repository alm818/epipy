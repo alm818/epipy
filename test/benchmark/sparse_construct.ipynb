{
 "cells": [
  {
   "cell_type": "code",
   "execution_count": 9,
   "metadata": {},
   "outputs": [],
   "source": [
    "import numpy as np\n",
    "import cupy as cp\n",
    "from numba import jit, prange\n",
    "import timeit\n",
    "import matplotlib.pyplot as plt\n",
    "from scipy.sparse import csr_matrix, coo_matrix\n",
    "from cupyx.scipy.sparse import coo_matrix as cp_coo_matrix"
   ]
  },
  {
   "cell_type": "code",
   "execution_count": 20,
   "metadata": {},
   "outputs": [],
   "source": [
    "def sc_csr_base(data, row, col, n):\n",
    "    mat = csr_matrix((data,(row, col)), shape=(n,n))\n",
    "    \n",
    "def sc_coo_base(data, row, col, n):\n",
    "    mat = coo_matrix((data,(row, col)), shape=(n,n)).tocsr()\n",
    "    \n",
    "def sc_cp(data, row, col, n):\n",
    "    cmat = cp_coo_matrix((data, (row, col)), shape=(n,n)).tocsr()\n",
    "    \n",
    "def npcopy_base(row, col, data):\n",
    "    a=np.copy(row)\n",
    "    b=np.copy(col)\n",
    "    c=np.copy(data)\n",
    "    \n",
    "@jit(nopython=True)\n",
    "def npcopy_nb(row, col, data):\n",
    "    a=np.copy(row)\n",
    "    b=np.copy(col)\n",
    "    c=np.copy(data)\n",
    "    \n",
    "@jit(nopython=True, parallel=True)\n",
    "def npcopy_nb_parallel(row, col, data):\n",
    "    a = np.zeros(row.shape[0])\n",
    "    for i in prange(row.shape[0]):\n",
    "        a[i] = row[i]\n",
    "    b = np.zeros(col.shape[0])\n",
    "    for i in prange(col.shape[0]):\n",
    "        b[i] = col[i]\n",
    "    c = np.zeros(data.shape[0])\n",
    "    for i in prange(data.shape[0]):\n",
    "        c[i] = data[i]"
   ]
  },
  {
   "cell_type": "code",
   "execution_count": 21,
   "metadata": {},
   "outputs": [],
   "source": [
    "n = 2965820\n",
    "row, col = np.random.randint(0, n, (2, n))\n",
    "data = np.random.rand(n)\n",
    "# npcopy_nb_parallel(row, col, data)\n",
    "# npcopy_nb_parallel.parallel_diagnostics(level=4)"
   ]
  },
  {
   "cell_type": "code",
   "execution_count": 22,
   "metadata": {},
   "outputs": [
    {
     "name": "stderr",
     "output_type": "stream",
     "text": [
      "/home/alm818/.local/lib/python3.6/site-packages/numba/typed_passes.py:293: NumbaPerformanceWarning: \u001b[1m\n",
      "The keyword argument 'parallel=True' was specified but no transformation for parallel execution was possible.\n",
      "\n",
      "To find out why, try turning on parallel diagnostics, see http://numba.pydata.org/numba-doc/latest/user/parallel.html#diagnostics for help.\n",
      "\u001b[1m\n",
      "File \"<ipython-input-20-e9f5104aa633>\", line 22:\u001b[0m\n",
      "\u001b[1m@jit(nopython=True, parallel=True)\n",
      "\u001b[1mdef npcopy_nb_parallel(row, col, data):\n",
      "\u001b[0m\u001b[1m^\u001b[0m\u001b[0m\n",
      "\u001b[0m\n",
      "  state.func_ir.loc))\n"
     ]
    },
    {
     "name": "stdout",
     "output_type": "stream",
     "text": [
      "320 ns ± 3.96 ns per loop (mean ± std. dev. of 7 runs, 1000000 loops each)\n"
     ]
    }
   ],
   "source": [
    "%timeit npcopy_nb_parallel(row, col, data)"
   ]
  },
  {
   "cell_type": "code",
   "execution_count": 3,
   "metadata": {},
   "outputs": [
    {
     "name": "stdout",
     "output_type": "stream",
     "text": [
      "[8, 11, 16, 22, 32, 45, 64, 90, 128, 181, 256, 362, 512, 724, 1024, 1448, 2048, 2896, 4096, 5792, 8192, 11585, 16384, 23170, 32768, 46340, 65536, 92681, 131072, 185363, 262144, 370727, 524288, 741455, 1048576, 1482910, 2097152, 2965820]\n"
     ]
    }
   ],
   "source": [
    "N = [int(8*(2**0.5)**i) for i in range(38)]\n",
    "print(N)"
   ]
  },
  {
   "cell_type": "code",
   "execution_count": 4,
   "metadata": {},
   "outputs": [
    {
     "name": "stdout",
     "output_type": "stream",
     "text": [
      "Start with size: 8\n"
     ]
    },
    {
     "name": "stderr",
     "output_type": "stream",
     "text": [
      "/home/alm818/.local/lib/python3.6/site-packages/numba/typed_passes.py:293: NumbaPerformanceWarning: \u001b[1m\n",
      "The keyword argument 'parallel=True' was specified but no transformation for parallel execution was possible.\n",
      "\n",
      "To find out why, try turning on parallel diagnostics, see http://numba.pydata.org/numba-doc/latest/user/parallel.html#diagnostics for help.\n",
      "\u001b[1m\n",
      "File \"<ipython-input-2-e9f5104aa633>\", line 22:\u001b[0m\n",
      "\u001b[1m@jit(nopython=True, parallel=True)\n",
      "\u001b[1mdef npcopy_nb_parallel(row, col, data):\n",
      "\u001b[0m\u001b[1m^\u001b[0m\u001b[0m\n",
      "\u001b[0m\n",
      "  state.func_ir.loc))\n"
     ]
    },
    {
     "name": "stdout",
     "output_type": "stream",
     "text": [
      "Start with size: 11\n",
      "Start with size: 16\n",
      "Start with size: 22\n",
      "Start with size: 32\n",
      "Start with size: 45\n",
      "Start with size: 64\n",
      "Start with size: 90\n",
      "Start with size: 128\n",
      "Start with size: 181\n",
      "Start with size: 256\n",
      "Start with size: 362\n",
      "Start with size: 512\n",
      "Start with size: 724\n",
      "Start with size: 1024\n",
      "Start with size: 1448\n",
      "Start with size: 2048\n",
      "Start with size: 2896\n",
      "Start with size: 4096\n",
      "Start with size: 5792\n",
      "Start with size: 8192\n",
      "Start with size: 11585\n",
      "Start with size: 16384\n",
      "Start with size: 23170\n",
      "Start with size: 32768\n",
      "Start with size: 46340\n",
      "Start with size: 65536\n",
      "Start with size: 92681\n",
      "Start with size: 131072\n",
      "Start with size: 185363\n",
      "Start with size: 262144\n",
      "Start with size: 370727\n",
      "Start with size: 524288\n",
      "Start with size: 741455\n",
      "Start with size: 1048576\n",
      "Start with size: 1482910\n",
      "Start with size: 2097152\n",
      "Start with size: 2965820\n"
     ]
    }
   ],
   "source": [
    "SIZE = 50000\n",
    "methods = [\"sc_csr_base\", \"sc_coo_base\", \"sc_cp\", \"npcopy_base\", \"npcopy_nb\", \"npcopy_nb_parallel\"]\n",
    "K = len(methods)\n",
    "funcs = [sc_csr_base, sc_coo_base, sc_cp, npcopy_base, npcopy_nb, npcopy_nb_parallel]\n",
    "masks = [1, 1, 1, 1, 1, 1]\n",
    "groups = [0, 0, 0, 1, 1, 1]\n",
    "T = [[] for i in range(K)]\n",
    "for n in N:\n",
    "    print(\"Start with size:\", n)\n",
    "    row, col = np.random.randint(0, n, (2, n))\n",
    "    data = np.random.rand(n)\n",
    "\n",
    "    crow = cp.array(row)\n",
    "    ccol = cp.array(col)\n",
    "    cdata = cp.array(data)\n",
    "    \n",
    "    args = [(data, row, col, n), (data, row, col, n), (cdata, crow, ccol, n), (row, col, data), (row, col, data), (row, col, data)]\n",
    "    \n",
    "    for i in range(K):\n",
    "        t = %timeit -q -n 1 -r 3 -o funcs[i](*args[i])\n",
    "        T[i].append(t.average*1000)"
   ]
  },
  {
   "cell_type": "code",
   "execution_count": 5,
   "metadata": {},
   "outputs": [
    {
     "data": {
      "image/png": "[encoded data removed]",
      "text/plain": [
       "<Figure size 432x288 with 2 Axes>"
      ]
     },
     "metadata": {
      "needs_background": "light"
     },
     "output_type": "display_data"
    }
   ],
   "source": [
    "n_groups = max(groups)+1\n",
    "fig, axs = plt.subplots(n_groups)\n",
    "plt.rcParams[\"figure.figsize\"] = (10,15)\n",
    "if n_groups == 1:\n",
    "    for i in range(K):\n",
    "        if masks[i]:\n",
    "            axs.plot(N[1:], T[i][1:], label=methods[i])\n",
    "    axs.set_xlabel(\"Size\")\n",
    "    axs.set_ylabel(\"Time(ms)\")\n",
    "    axs.legend()\n",
    "    axs.set_xscale('log')\n",
    "else:\n",
    "    for g in range(n_groups):\n",
    "        for i in range(K):\n",
    "            if masks[i] and groups[i] == g:\n",
    "                axs[g].plot(N[1:], T[i][1:], label=methods[i])\n",
    "        axs[g].set_xlabel(\"Size\")\n",
    "        axs[g].set_ylabel(\"Time(ms)\")\n",
    "        axs[g].legend()\n",
    "        axs[g].set_xscale('log')\n",
    "plt.show()"
   ]
  },
  {
   "cell_type": "code",
   "execution_count": 6,
   "metadata": {},
   "outputs": [
    {
     "name": "stdout",
     "output_type": "stream",
     "text": [
      "[[0.22149233336676843, 0.190979666513158, 0.3516923334245803, 0.25426233332837, 0.17814566672313958, 0.20255766624662405, 0.19029433254521186, 0.17608666651843427, 0.23214133337508733, 0.20385600024989495, 0.20777866666321643, 0.20097633265928985, 0.26951666647316114, 0.23909833362267818, 0.3332129999762401, 0.2378423335661258, 0.2793273336768228, 0.32730033368958783, 0.33080166698103614, 0.3850773330971909, 0.4531083329008349, 0.5551486665353877, 0.7317990002775332, 0.9189563334075501, 1.2298849997023353, 1.7616803343116771, 2.3991383338094843, 3.2303353333797227, 4.569510000389225, 6.32750599955519, 9.269189999031369, 15.158685332911167, 19.04580933296529, 33.74341300028997, 53.168426333286334, 78.60597233290416, 144.46638733352302, 188.15736266636426], [0.11860199992952403, 0.11874433342503228, 0.13587099965661764, 0.125790000311099, 0.11960600022575818, 0.23847266675147694, 0.1215793339118439, 0.12502733322132067, 0.2260216660943115, 0.13013899964183415, 0.13155499982531182, 0.15556433269618233, 0.1412290002917871, 0.1612860002448239, 0.166475666143621, 0.19461299962131307, 0.20893266628263518, 0.38468466664198786, 0.2554763335259243, 0.3206339994600664, 0.3832906665290163, 0.5032893338163072, 0.6439266665741646, 0.8509746664155197, 1.157656999566825, 1.9182079995516688, 2.247921000162023, 3.0559026660436452, 5.74647166710444, 6.199445000675041, 8.880227667153425, 12.936176666698884, 18.83574733316588, 36.25394700005321, 54.58482166613976, 77.4410036659295, 143.76020666592618, 187.8876993329565], [125.93482333310627, 1.097674333626249, 2.078496332615032, 1.357239666200864, 1.3366766664451764, 1.7860616668864775, 1.074797333179352, 2.0139249997252286, 1.838272333770874, 2.2252259999125577, 1.947799665989199, 1.472578666531869, 1.9163690000520244, 2.628972333695856, 3.4507376664502467, 2.36867133329118, 3.1476806664917, 2.98991800082149, 2.6388543331753076, 3.008704000118693, 2.0142449999790792, 2.078794666886097, 2.316593999542723, 2.2516573329388243, 2.540060666433419, 2.819570666057795, 3.2214403327088803, 4.395552666513443, 6.762007666111458, 9.367767332757163, 12.986199000200335, 21.3154806666959, 37.094224999843085, 59.34221333336609, 94.70865399938096, 146.45795166688913, 257.01017400024284, 336.7121813334961], [0.006432001100620255, 0.006182333284717363, 0.012036332918796688, 0.006275332755952452, 0.007027333291868369, 0.006803333235438913, 0.0059560000712129595, 0.011939332883533401, 0.0069743333976172535, 0.01633033328592622, 0.007932666752215786, 0.00756766651951087, 0.017537333405925892, 0.00789366701307396, 0.022573333505230646, 0.01467166657675989, 0.014939667380531318, 0.012741666675234834, 0.013192333426559344, 0.015711333010888968, 0.01616199976221348, 0.019344333850312978, 0.03193266699478651, 0.02974399952411962, 0.0371369994051444, 0.07116866739427981, 0.08515099943906534, 0.11838766598278501, 0.24638966715428978, 0.5816020002384903, 0.6114056656466952, 0.9666883330889201, 1.6254266671846078, 2.7071933333597067, 3.696590333371811, 9.220729667504202, 13.3736116658838, 14.063231999898562], [30.579902666431735, 0.0022699999438676364, 0.002680999993269021, 0.0021399998028452196, 0.002806999570263239, 0.0026393336156615987, 0.0074156663079823675, 0.003959000120327498, 0.0025773333618417382, 0.0029343330728200576, 0.0027633335169715187, 0.005181999464790958, 0.0031099995491482937, 0.002935000641931159, 0.00332133398236086, 0.007332000677706674, 0.004760666949247631, 0.007318999147779929, 0.005670666723744944, 0.006455999634151037, 0.008201666787499562, 0.010379334222913409, 0.014125667197125344, 0.01930866710608825, 0.026083666549917933, 0.040392333782316804, 0.05484200058466134, 0.0711926665341404, 0.10398566701042, 0.1678750001398536, 0.2861800003302051, 0.569188333126173, 0.9573089998108723, 1.4037673336133594, 2.090947666753588, 5.34159899992422, 7.682891666869788, 8.714735999698556], [24.2118470002121, 0.001845999577199109, 0.0025243334675906226, 0.0011326665116939694, 0.0017613335027514647, 0.00192500071231431, 0.0011660007051735495, 0.0013086664694128558, 0.0013199993797267477, 0.001355666730281276, 0.0012073323887307197, 0.0019369993727499, 0.001820667118105727, 0.0015649996688201402, 0.0013110002328176051, 0.001355666730281276, 0.0013153336719066526, 0.0017030009378989537, 0.0012003335238356765, 0.0012283332277244579, 0.0011599998591312517, 0.0012803332841334243, 0.0011103329597972333, 0.0011326671180237706, 0.0011003333687161405, 0.006884333439908612, 0.001185333530884236, 0.0011979997604309272, 0.0012063331572183718, 0.0013416665751719847, 0.0012550008250400424, 0.0014750003174412996, 0.0015136677878520761, 0.00189133303744408, 0.0017073331643283989, 0.00134666576438273, 0.001389333192491904, 0.0011489998238782089]]\n"
     ]
    }
   ],
   "source": [
    "print(T)"
   ]
  },
  {
   "cell_type": "code",
   "execution_count": null,
   "metadata": {},
   "outputs": [],
   "source": []
  },
  {
   "cell_type": "code",
   "execution_count": null,
   "metadata": {},
   "outputs": [],
   "source": []
  }
 ],
 "metadata": {
  "kernelspec": {
   "display_name": "Python 3",
   "language": "python",
   "name": "python3"
  },
  "language_info": {
   "codemirror_mode": {
    "name": "ipython",
    "version": 3
   },
   "file_extension": ".py",
   "mimetype": "text/x-python",
   "name": "python",
   "nbconvert_exporter": "python",
   "pygments_lexer": "ipython3",
   "version": "3.6.9"
  }
 },
 "nbformat": 4,
 "nbformat_minor": 4
}
