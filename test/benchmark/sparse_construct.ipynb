{
 "cells": [
  {
   "cell_type": "code",
   "execution_count": 1,
   "metadata": {},
   "outputs": [],
   "source": [
    "import sys\n",
    "import numpy as np\n",
    "import cupy as cp\n",
    "from numba import jit, prange\n",
    "import timeit\n",
    "import matplotlib.pyplot as plt\n",
    "from scipy.sparse import csr_matrix, coo_matrix\n",
    "from cupyx.scipy.sparse import coo_matrix as cp_coo_matrix\n",
    "\n",
    "sys.path.append('../..')\n",
    "from epipy.sparse import rigid_csr_matrix"
   ]
  },
  {
   "cell_type": "code",
   "execution_count": 2,
   "metadata": {},
   "outputs": [],
   "source": [
    "def sc_csr_base(data, row, col, n):\n",
    "    mat = csr_matrix((data,(row, col)), shape=(n,n))\n",
    "    \n",
    "def sc_coo_base(data, row, col, n):\n",
    "    mat = coo_matrix((data,(row, col)), shape=(n,n)).tocsr()\n",
    "    \n",
    "def sc_rigix_csr(data, row, col, n):\n",
    "    mat = rigid_csr_matrix((data, (row, col)), shape=(n,n))\n",
    "    \n",
    "def sc_cp(data, row, col, n):\n",
    "    cmat = cp_coo_matrix((data, (row, col)), shape=(n,n)).tocsr()\n",
    "    \n",
    "def npcopy_base(row, col, data):\n",
    "    a=np.copy(row)\n",
    "    b=np.copy(col)\n",
    "    c=np.copy(data)\n",
    "    \n",
    "@jit(nopython=True)\n",
    "def npcopy_nb(row, col, data):\n",
    "    a=np.copy(row)\n",
    "    b=np.copy(col)\n",
    "    c=np.copy(data)\n",
    "    \n",
    "@jit(nopython=True, parallel=True)\n",
    "def npcopy_nb_parallel(row, col, data):\n",
    "    a = np.zeros(row.shape[0])\n",
    "    for i in prange(row.shape[0]):\n",
    "        a[i] = row[i]\n",
    "    b = np.zeros(col.shape[0])\n",
    "    for i in prange(col.shape[0]):\n",
    "        b[i] = col[i]\n",
    "    c = np.zeros(data.shape[0])\n",
    "    for i in prange(data.shape[0]):\n",
    "        c[i] = data[i]"
   ]
  },
  {
   "cell_type": "code",
   "execution_count": 3,
   "metadata": {},
   "outputs": [],
   "source": [
    "# n = 2965820\n",
    "# row, col = np.random.randint(0, n, (2, n))\n",
    "# data = np.random.rand(n)\n",
    "# npcopy_nb_parallel(row, col, data)\n",
    "# npcopy_nb_parallel.parallel_diagnostics(level=4)"
   ]
  },
  {
   "cell_type": "code",
   "execution_count": 4,
   "metadata": {},
   "outputs": [
    {
     "name": "stdout",
     "output_type": "stream",
     "text": [
      "[8, 11, 16, 22, 32, 45, 64, 90, 128, 181, 256, 362, 512, 724, 1024, 1448, 2048, 2896, 4096, 5792, 8192, 11585, 16384, 23170, 32768, 46340, 65536, 92681, 131072, 185363, 262144, 370727, 524288, 741455, 1048576, 1482910, 2097152, 2965820]\n"
     ]
    }
   ],
   "source": [
    "N = [int(8*(2**0.5)**i) for i in range(38)]\n",
    "print(N)"
   ]
  },
  {
   "cell_type": "code",
   "execution_count": 5,
   "metadata": {},
   "outputs": [
    {
     "name": "stdout",
     "output_type": "stream",
     "text": [
      "Start with size: 8\n"
     ]
    },
    {
     "name": "stderr",
     "output_type": "stream",
     "text": [
      "/home/alm818/.local/lib/python3.6/site-packages/numba/typed_passes.py:293: NumbaPerformanceWarning: \u001b[1m\n",
      "The keyword argument 'parallel=True' was specified but no transformation for parallel execution was possible.\n",
      "\n",
      "To find out why, try turning on parallel diagnostics, see http://numba.pydata.org/numba-doc/latest/user/parallel.html#diagnostics for help.\n",
      "\u001b[1m\n",
      "File \"<ipython-input-2-04b065a5970c>\", line 25:\u001b[0m\n",
      "\u001b[1m@jit(nopython=True, parallel=True)\n",
      "\u001b[1mdef npcopy_nb_parallel(row, col, data):\n",
      "\u001b[0m\u001b[1m^\u001b[0m\u001b[0m\n",
      "\u001b[0m\n",
      "  state.func_ir.loc))\n"
     ]
    },
    {
     "name": "stdout",
     "output_type": "stream",
     "text": [
      "Start with size: 11\n",
      "Start with size: 16\n",
      "Start with size: 22\n",
      "Start with size: 32\n",
      "Start with size: 45\n",
      "Start with size: 64\n",
      "Start with size: 90\n",
      "Start with size: 128\n",
      "Start with size: 181\n",
      "Start with size: 256\n",
      "Start with size: 362\n",
      "Start with size: 512\n",
      "Start with size: 724\n",
      "Start with size: 1024\n",
      "Start with size: 1448\n",
      "Start with size: 2048\n",
      "Start with size: 2896\n",
      "Start with size: 4096\n",
      "Start with size: 5792\n",
      "Start with size: 8192\n",
      "Start with size: 11585\n",
      "Start with size: 16384\n",
      "Start with size: 23170\n",
      "Start with size: 32768\n",
      "Start with size: 46340\n",
      "Start with size: 65536\n",
      "Start with size: 92681\n",
      "Start with size: 131072\n",
      "Start with size: 185363\n",
      "Start with size: 262144\n",
      "Start with size: 370727\n",
      "Start with size: 524288\n",
      "Start with size: 741455\n",
      "Start with size: 1048576\n",
      "Start with size: 1482910\n",
      "Start with size: 2097152\n",
      "Start with size: 2965820\n"
     ]
    }
   ],
   "source": [
    "SIZE = 50000\n",
    "methods = [\"sc_csr_base\", \"sc_coo_base\", \"sc_rigix_csr\", \"sc_cp\", \"npcopy_base\", \"npcopy_nb\", \"npcopy_nb_parallel\"]\n",
    "K = len(methods)\n",
    "funcs = [sc_csr_base, sc_coo_base, sc_rigix_csr, sc_cp, npcopy_base, npcopy_nb, npcopy_nb_parallel]\n",
    "masks = [1, 1, 1, 1, 1, 1, 1]\n",
    "groups = [0, 0, 0, 0, 1, 1, 1]\n",
    "T = [[] for i in range(K)]\n",
    "for n in N:\n",
    "    print(\"Start with size:\", n)\n",
    "    row, col = np.random.randint(0, n, (2, n))\n",
    "    data = np.random.rand(n)\n",
    "\n",
    "    crow = cp.array(row)\n",
    "    ccol = cp.array(col)\n",
    "    cdata = cp.array(data)\n",
    "    \n",
    "    args = [(data, row, col, n), (data, row, col, n), (data, row, col, n), (cdata, crow, ccol, n), (row, col, data), (row, col, data), (row, col, data)]\n",
    "    \n",
    "    for i in range(K):\n",
    "        t = %timeit -q -n 1 -r 3 -o funcs[i](*args[i])\n",
    "        T[i].append(t.average*1000)"
   ]
  },
  {
   "cell_type": "code",
   "execution_count": 6,
   "metadata": {},
   "outputs": [
    {
     "data": {
      "image/png": "[encoded data removed]",
      "text/plain": [
       "<Figure size 432x288 with 2 Axes>"
      ]
     },
     "metadata": {
      "needs_background": "light"
     },
     "output_type": "display_data"
    }
   ],
   "source": [
    "n_groups = max(groups)+1\n",
    "fig, axs = plt.subplots(n_groups)\n",
    "plt.rcParams[\"figure.figsize\"] = (10,15)\n",
    "if n_groups == 1:\n",
    "    for i in range(K):\n",
    "        if masks[i]:\n",
    "            axs.plot(N[1:], T[i][1:], label=methods[i])\n",
    "    axs.set_xlabel(\"Size\")\n",
    "    axs.set_ylabel(\"Time(ms)\")\n",
    "    axs.legend()\n",
    "    axs.set_xscale('log')\n",
    "else:\n",
    "    for g in range(n_groups):\n",
    "        for i in range(K):\n",
    "            if masks[i] and groups[i] == g:\n",
    "                axs[g].plot(N[1:], T[i][1:], label=methods[i])\n",
    "        axs[g].set_xlabel(\"Size\")\n",
    "        axs[g].set_ylabel(\"Time(ms)\")\n",
    "        axs[g].legend()\n",
    "        axs[g].set_xscale('log')\n",
    "plt.show()"
   ]
  },
  {
   "cell_type": "code",
   "execution_count": 7,
   "metadata": {},
   "outputs": [
    {
     "name": "stdout",
     "output_type": "stream",
     "text": [
      "[[0.21415966572628045, 0.18926533327127495, 0.2201336671229607, 0.21675099803057188, 0.18802333336983187, 0.22011866652367948, 0.1792063339962624, 0.21150999964447692, 0.18001066685731834, 0.24181566671662344, 0.19876866645063274, 0.25924399839520146, 0.24889699974058505, 0.20261533306135485, 0.21580533333083926, 0.22566766832217885, 0.2511923327498759, 0.2704350008571055, 0.3117823325737845, 0.365717665166206, 0.6287113343811749, 0.5386523334891535, 0.7263843338781347, 0.9640743337513413, 1.3691020006566152, 1.7446046658733394, 2.370020333425297, 3.4154250000331863, 4.821319665400854, 7.1291803336256026, 10.211002999615934, 16.357382666077076, 22.60310066655317, 34.52327366661242, 52.5059126666747, 92.48955500030813, 139.29422433284344, 201.74433933304195], [0.11820233460942593, 0.11866533410890649, 0.1202669979344743, 0.11580866824563903, 0.12147233186018032, 0.11662233373499475, 0.17863566608866677, 0.1185649998660665, 0.12537200018414296, 0.12207699910504743, 0.12615966746428361, 0.1329950003613097, 0.13544433386414312, 0.14187766525234716, 0.14919300034913854, 0.16392499916643524, 0.1791366667021066, 0.2090439993480686, 0.28338299913836335, 0.39022866743228707, 0.3647156663646456, 0.48256000081892125, 0.6539743347578527, 0.8328456679009832, 1.3513596653259203, 1.6461556673069329, 2.2904589992928472, 3.20376266730212, 5.23785666640227, 7.066931333004807, 10.610107332468033, 15.359699998953147, 22.475679666968063, 31.844242668739753, 53.79783500150855, 88.82433366670739, 135.49398833250356, 190.42154166648592], [0.16826300028090677, 0.16978900142324468, 0.16539866555831395, 0.1644246670669721, 0.2008889993400468, 0.18988033237595422, 0.16661933356469186, 0.16685633333205865, 0.1954610003546501, 0.17154966432523602, 0.2787866663614598, 0.18268600009226552, 0.18704799974026778, 0.21688800067446815, 0.20166700051049702, 0.21229966660030186, 0.24202399921099035, 0.2582146662462037, 0.3326933328935411, 0.34693500007657957, 0.41892533530093107, 0.5169320005128005, 0.6905693323157417, 0.8963773325376678, 1.265197333850665, 1.743205998839888, 2.397768334049033, 3.2659033337646783, 4.721679666545242, 6.959172334366788, 10.71924933300276, 15.06041800045447, 22.142454000762275, 31.958390332874842, 54.01382033354215, 88.73439700134138, 134.87155633265502, 198.89620166698782], [132.93105666768193, 1.1578216654015705, 1.5934326668987826, 1.0610450008243788, 1.141508999959721, 1.0829409996707302, 1.197072334131614, 1.2611873329054408, 1.2811633338666677, 1.0859516672401999, 1.119019999653877, 1.260559667571215, 1.2942469996535995, 1.8669276675306417, 1.8594063330965582, 2.1288476661235713, 1.9373186660232022, 1.9386123324996636, 1.9959839980098573, 2.5159819997497834, 2.268109665844046, 2.1154493321470604, 2.3149803309934214, 2.318369667288304, 2.936463999503758, 3.053860999595296, 3.327729332037658, 4.527301667015611, 7.400719999471524, 9.891711667781541, 14.479809332745694, 26.63101266686378, 42.276819999339445, 58.389809334281985, 105.13678433320213, 148.56951299952925, 227.42447733374624, 343.6499473330817], [0.006871333122641469, 0.006035999831510708, 0.006488666258519515, 0.0061490003038973855, 0.006198000240450104, 0.005921667858880634, 0.006364332269489144, 0.006389667153901731, 0.006411999493138865, 0.006844000987863789, 0.006707666519408424, 0.00713566745010515, 0.007102333862955372, 0.007863332333120828, 0.008164667330371836, 0.008926000494587546, 0.010009333588338146, 0.01075066757039167, 0.017206332510492455, 0.05093566748352411, 0.022636999347014353, 0.02449099944594006, 0.03573200107590916, 0.043107332506527506, 0.09524399865767919, 0.09661700096330605, 0.1321420010450917, 0.1842760005577778, 0.3742736662388779, 0.4712846651576304, 0.7495329991797917, 1.1660599993774667, 2.4072166670521256, 3.0053586669964716, 4.6136053327548625, 9.926380999483323, 11.653304334079925, 16.765708666450035], [29.74634933343623, 0.0022659987735096365, 0.002402666723355651, 0.0020970013186646006, 0.002385001910928016, 0.002162334567401558, 0.0021110002611142895, 0.002177999704144895, 0.0024346663849428296, 0.0025026662721453854, 0.00260199885815382, 0.002561333531048149, 0.002724333171499893, 0.002859000233002007, 0.0029323333971357592, 0.0034120009028508016, 0.0039843337920804816, 0.004579665983328596, 0.005605333475007986, 0.013670000043930486, 0.00877866720353874, 0.011145332488619411, 0.01549533408251591, 0.01978799991775304, 0.029305666733610753, 0.03811199955331782, 0.052731999555059396, 0.07737033471736747, 0.165696334685587, 0.2070666681296037, 0.3910786666286488, 0.7528773336768305, 1.0838743328349665, 1.7019463339238428, 2.676997666033761, 5.996614333222776, 8.007435665300969, 10.700470666051842], [23.64143966527384, 0.0010696652073723574, 0.0012759992387145758, 0.001093333897491296, 0.0012666678230743855, 0.001091999971928696, 0.0010756678724040587, 0.0010996676185944427, 0.0010889998520724475, 0.0012523317612552394, 0.001090333777635048, 0.001115000486606732, 0.0010876671391694497, 0.001050332987991472, 0.0011030000071817387, 0.0011109999225785334, 0.0010886663706817974, 0.0010493325438195218, 0.0012056661944370717, 0.0023053338130315146, 0.0011773336154874414, 0.0011206672449285786, 0.0011576667020563036, 0.0012046669629247238, 0.0014459995630507667, 0.0011503325367812067, 0.0012033330373621236, 0.001139999464309464, 0.001470666272022451, 0.0012226676820622135, 0.0012893336437021692, 0.0015353325579781085, 0.0013700009731110185, 0.0016796669418302674, 0.002022665285039693, 0.0015270003738502662, 0.0012069989073400695, 0.0012086675269529223]]\n"
     ]
    }
   ],
   "source": [
    "print(T)"
   ]
  },
  {
   "cell_type": "code",
   "execution_count": null,
   "metadata": {},
   "outputs": [],
   "source": []
  },
  {
   "cell_type": "code",
   "execution_count": null,
   "metadata": {},
   "outputs": [],
   "source": []
  }
 ],
 "metadata": {
  "kernelspec": {
   "display_name": "Python 3",
   "language": "python",
   "name": "python3"
  },
  "language_info": {
   "codemirror_mode": {
    "name": "ipython",
    "version": 3
   },
   "file_extension": ".py",
   "mimetype": "text/x-python",
   "name": "python",
   "nbconvert_exporter": "python",
   "pygments_lexer": "ipython3",
   "version": "3.6.9"
  }
 },
 "nbformat": 4,
 "nbformat_minor": 4
}
