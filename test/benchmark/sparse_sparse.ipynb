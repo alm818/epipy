{
 "cells": [
  {
   "cell_type": "code",
   "execution_count": 1,
   "metadata": {},
   "outputs": [],
   "source": [
    "import numpy as np\n",
    "import cupy as cp\n",
    "from numba import jit, prange\n",
    "import timeit\n",
    "import matplotlib.pyplot as plt\n",
    "from scipy.sparse import csr_matrix\n",
    "from cupyx.scipy.sparse import coo_matrix as cp_coo_matrix"
   ]
  },
  {
   "cell_type": "code",
   "execution_count": 2,
   "metadata": {},
   "outputs": [],
   "source": [
    "def ss_base(mat1, mat2, c):\n",
    "    res = mat1 + mat2*c\n",
    "    \n",
    "def ss_cp(mat1, mat2, c):\n",
    "    res = mat1 + mat2*c\n",
    "    \n",
    "@jit(nopython=True, parallel=True)\n",
    "def ss_nb(A, iA, jA, B, iB, jB, c, C, iC, jC):\n",
    "    n = len(iA) - 1\n",
    "    for row in prange(n):\n",
    "        for i in prange(iB[row], iB[row+1]):\n",
    "            left = int(iA[row])\n",
    "            right = int(iA[row+1]-1)\n",
    "            while left <= right:\n",
    "                mid = int((left+right) / 2)\n",
    "                if jA[mid] < jB[i]:\n",
    "                    left = mid + 1\n",
    "                elif jA[mid] > jB[i]:\n",
    "                    right = mid - 1\n",
    "                else:\n",
    "                    # jA[mid] == jB[i]\n",
    "                    C[mid] += B[i]*c\n",
    "                    break    "
   ]
  },
  {
   "cell_type": "code",
   "execution_count": 3,
   "metadata": {},
   "outputs": [
    {
     "name": "stdout",
     "output_type": "stream",
     "text": [
      "Start with size: 8\n",
      "0.0\n",
      "Start with size: 11\n",
      "0.0\n",
      "Start with size: 16\n",
      "0.0\n",
      "Start with size: 22\n",
      "0.0\n",
      "Start with size: 32\n",
      "0.0\n",
      "Start with size: 45\n",
      "0.0\n",
      "Start with size: 64\n",
      "0.0\n",
      "Start with size: 90\n",
      "0.0\n",
      "Start with size: 128\n",
      "0.0\n",
      "Start with size: 181\n",
      "0.0\n",
      "Start with size: 256\n",
      "0.0\n",
      "Start with size: 362\n",
      "0.0\n",
      "Start with size: 512\n",
      "0.0\n",
      "Start with size: 724\n",
      "0.0\n",
      "Start with size: 1024\n",
      "0.0\n",
      "Start with size: 1448\n",
      "0.0\n",
      "Start with size: 2048\n",
      "0.0\n",
      "Start with size: 2896\n",
      "0.0\n",
      "Start with size: 4096\n",
      "0.0\n",
      "Start with size: 5792\n",
      "0.0\n",
      "Start with size: 8192\n",
      "0.0\n",
      "Start with size: 11585\n",
      "0.0\n",
      "Start with size: 16384\n",
      "0.0\n",
      "Start with size: 23170\n",
      "0.0\n",
      "Start with size: 32768\n",
      "0.0\n",
      "Start with size: 46340\n",
      "0.0\n",
      "Start with size: 65536\n",
      "0.0\n",
      "Start with size: 92681\n",
      "0.0\n"
     ]
    }
   ],
   "source": [
    "N = [int(8*(2**0.5)**i) for i in range(28)]\n",
    "methods = [\"ss_base\", \"ss_cp\", \"ss_nb\"]\n",
    "K = len(methods)\n",
    "funcs = [ss_base, ss_cp, ss_nb]\n",
    "masks = [1, 1, 1]\n",
    "groups = [0, 0, 0]\n",
    "T = [[] for i in range(K)]\n",
    "deg = 40\n",
    "obtain = 1000\n",
    "for n in N:\n",
    "    print(\"Start with size:\", n)\n",
    "    row, col = np.random.randint(0, n, (2, n*deg))\n",
    "    data1, data2 = np.random.rand(2, n*deg)\n",
    "    c = np.random.rand()\n",
    "    \n",
    "    choose = np.random.randint(0, n*deg, (obtain))\n",
    "    row2 = row[choose]\n",
    "    col2 = col[choose]\n",
    "    data2 = data2[choose]\n",
    "    \n",
    "    mat1 = csr_matrix((data1,(row, col)), shape=(n,n))\n",
    "    cmat1 = cp_coo_matrix((cp.array(data1), (cp.array(row), cp.array(col))), shape=(n,n)).tocsr()\n",
    "    mat2 = csr_matrix((data2,(row2, col2)), shape=(n,n))\n",
    "    cmat2 = cp_coo_matrix((cp.array(data2), (cp.array(row2), cp.array(col2))), shape=(n,n)).tocsr()\n",
    "    \n",
    "    res = np.zeros(n)\n",
    "    C = np.copy(mat1.data)\n",
    "    iC = np.copy(mat1.indptr)\n",
    "    jC = np.copy(mat1.indices)\n",
    "    args = [(mat1, mat2, c), (cmat1, cmat2, c), (mat1.data, mat1.indptr, mat1.indices, mat2.data, mat2.indptr, mat2.indices, c, C, iC, jC)]\n",
    "    \n",
    "    for i in range(K):\n",
    "        t = %timeit -q -n 1 -r 1 -o funcs[i](*args[i])\n",
    "        T[i].append(t.average*1000)\n",
    "        \n",
    "    res = mat1 + mat2*c\n",
    "    res2 = csr_matrix((C, jC, iC), shape=(n, n))\n",
    "    zero = res2-res\n",
    "    print(np.sum(zero))"
   ]
  },
  {
   "cell_type": "code",
   "execution_count": 4,
   "metadata": {},
   "outputs": [
    {
     "data": {
      "image/png": "[encoded data removed]",
      "text/plain": [
       "<Figure size 432x288 with 1 Axes>"
      ]
     },
     "metadata": {
      "needs_background": "light"
     },
     "output_type": "display_data"
    }
   ],
   "source": [
    "n_groups = max(groups)+1\n",
    "fig, axs = plt.subplots(n_groups)\n",
    "plt.rcParams[\"figure.figsize\"] = (10,15)\n",
    "if n_groups == 1:\n",
    "    for i in range(K):\n",
    "        if masks[i]:\n",
    "            axs.plot(N[1:], T[i][1:], label=methods[i])\n",
    "    axs.set_xlabel(\"Size\")\n",
    "    axs.set_ylabel(\"Time(ms)\")\n",
    "    axs.legend()\n",
    "    axs.set_xscale('log')\n",
    "else:\n",
    "    for g in range(n_groups):\n",
    "        for i in range(K):\n",
    "            if masks[i] and groups[i] == g:\n",
    "                axs[g].plot(N[1:], T[i][1:], label=methods[i])\n",
    "        axs[g].set_xlabel(\"Size\")\n",
    "        axs[g].set_ylabel(\"Time(ms)\")\n",
    "        axs[g].legend()\n",
    "        axs[g].set_xscale('log')\n",
    "plt.show()"
   ]
  },
  {
   "cell_type": "code",
   "execution_count": 5,
   "metadata": {},
   "outputs": [
    {
     "name": "stdout",
     "output_type": "stream",
     "text": [
      "[[0.23066599896992557, 0.1577099992573494, 0.15029700080049224, 0.15365799845312722, 0.15985600111889653, 0.15916600023047067, 0.16372600111935753, 0.1654110001254594, 0.1705349986877991, 0.18446100148139521, 0.449305998699856, 0.22268099928623997, 0.23017300009087194, 0.2495579992682906, 0.47921300028974656, 0.369420000424725, 0.40852699930837844, 0.5603259996860288, 0.6660819999524392, 0.8897399984562071, 1.2899180001113564, 1.734588999170228, 2.7737279997381847, 2.845102000719635, 4.200624000077369, 5.452892999528558, 10.37649899990356, 15.095284999915748], [3.8725009999325266, 3.235272000893019, 3.333915999974124, 3.4093680005753413, 4.1750660002435325, 5.569105000176933, 5.603280000286759, 5.5374650000885595, 5.587278999882983, 5.832086000737036, 8.757112000239431, 6.252866000068025, 6.687770001008175, 6.186880998939159, 6.505049001134466, 13.015520000408287, 7.7831599992350675, 9.348380999654182, 12.390613999741618, 15.235754000968882, 23.856235999119235, 25.655448000179604, 39.02087400092569, 46.554313999877195, 66.28694599930895, 94.01769299984153, 137.87194900032773, 224.69015800015768], [486.77951200079406, 0.1146020003943704, 0.10680299965315498, 0.11218700092285872, 0.10296899927197956, 0.11215399899811018, 0.10477000068931375, 0.10757400013972074, 0.1282559987885179, 0.10488900079508312, 0.1383340004394995, 0.15714199980720878, 0.1494069983891677, 0.120185999548994, 0.12597299974004272, 0.1381210004183231, 0.14356200153997634, 0.1347130000795005, 0.13811200005875435, 0.1592089993209811, 0.21019500127295032, 0.16915000014705583, 0.20689299890364055, 0.22804400032327976, 0.17059700076060835, 0.2071069993689889, 0.2913049993367167, 0.23377799880108796]]\n"
     ]
    }
   ],
   "source": [
    "print(T)"
   ]
  },
  {
   "cell_type": "code",
   "execution_count": null,
   "metadata": {},
   "outputs": [],
   "source": []
  }
 ],
 "metadata": {
  "kernelspec": {
   "display_name": "Python 3",
   "language": "python",
   "name": "python3"
  },
  "language_info": {
   "codemirror_mode": {
    "name": "ipython",
    "version": 3
   },
   "file_extension": ".py",
   "mimetype": "text/x-python",
   "name": "python",
   "nbconvert_exporter": "python",
   "pygments_lexer": "ipython3",
   "version": "3.6.9"
  }
 },
 "nbformat": 4,
 "nbformat_minor": 4
}
