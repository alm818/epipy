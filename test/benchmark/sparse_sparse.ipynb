{
 "cells": [
  {
   "cell_type": "code",
   "execution_count": 1,
   "metadata": {},
   "outputs": [],
   "source": [
    "import numpy as np\n",
    "import cupy as cp\n",
    "from numba import jit, prange\n",
    "import timeit\n",
    "import matplotlib.pyplot as plt\n",
    "from scipy.sparse import csr_matrix\n",
    "from cupyx.scipy.sparse import coo_matrix as cp_coo_matrix\n",
    "\n",
    "import sys\n",
    "sys.path.append('../..')\n",
    "from epipy.sparse import rigid_csr_matrix"
   ]
  },
  {
   "cell_type": "code",
   "execution_count": 2,
   "metadata": {},
   "outputs": [],
   "source": [
    "def ss_base(mat1, mat2, c):\n",
    "    res = mat1 + (mat2-mat1)*c\n",
    "    \n",
    "def ss_cp(mat1, mat2, c):\n",
    "    res = mat1 + (mat2-mat1)*c\n",
    "    \n",
    "# Deprecated\n",
    "# def ss_nb(A, iA, jA, B, iB, jB, c, C, iC, jC):\n",
    "#     n = len(iA) - 1\n",
    "#     for row in prange(n):\n",
    "#         for i in prange(iB[row], iB[row+1]):\n",
    "#             left = int(iA[row])\n",
    "#             right = int(iA[row+1]-1)\n",
    "#             while left <= right:\n",
    "#                 mid = int((left+right) / 2)\n",
    "#                 if jA[mid] < jB[i]:\n",
    "#                     left = mid + 1\n",
    "#                 elif jA[mid] > jB[i]:\n",
    "#                     right = mid - 1\n",
    "#                 else:\n",
    "#                     # jA[mid] == jB[i]\n",
    "#                     C[mid] += B[i]*c\n",
    "#                     break    \n",
    "\n",
    "def ss_nb(mat, values, row, col, c):\n",
    "    res_mat = mat.transform(values, row, col, c)"
   ]
  },
  {
   "cell_type": "code",
   "execution_count": 3,
   "metadata": {},
   "outputs": [
    {
     "name": "stdout",
     "output_type": "stream",
     "text": [
      "Start with size: 8\n",
      "Start with size: 11\n",
      "Start with size: 16\n",
      "Start with size: 22\n",
      "Start with size: 32\n",
      "Start with size: 45\n",
      "Start with size: 64\n",
      "Start with size: 90\n",
      "Start with size: 128\n",
      "Start with size: 181\n",
      "Start with size: 256\n",
      "Start with size: 362\n",
      "Start with size: 512\n",
      "Start with size: 724\n",
      "Start with size: 1024\n",
      "Start with size: 1448\n",
      "Start with size: 2048\n",
      "Start with size: 2896\n",
      "Start with size: 4096\n",
      "Start with size: 5792\n",
      "Start with size: 8192\n",
      "Start with size: 11585\n",
      "Start with size: 16384\n",
      "Start with size: 23170\n",
      "Start with size: 32768\n",
      "Start with size: 46340\n",
      "Start with size: 65536\n",
      "Start with size: 92681\n"
     ]
    }
   ],
   "source": [
    "N = [int(8*(2**0.5)**i) for i in range(28)]\n",
    "methods = [\"ss_base\", \"ss_cp\", \"ss_nb\"]\n",
    "K = len(methods)\n",
    "funcs = [ss_base, ss_cp, ss_nb]\n",
    "masks = [1, 1, 1]\n",
    "groups = [0, 0, 0]\n",
    "T = [[] for i in range(K)]\n",
    "deg = 40\n",
    "obtain = 1000\n",
    "for n in N:\n",
    "    print(\"Start with size:\", n)\n",
    "    row, col = np.random.randint(0, n, (2, n*deg))\n",
    "    data1, data2 = np.random.rand(2, n*deg)\n",
    "    c = 0.75\n",
    "    \n",
    "    choose = np.random.randint(0, n*deg, (obtain))\n",
    "    row2 = row[choose]\n",
    "    col2 = col[choose]\n",
    "    data2 = data2[choose]\n",
    "    \n",
    "    mat1 = csr_matrix((data1,(row, col)), shape=(n,n))\n",
    "    cmat1 = cp_coo_matrix((cp.array(data1), (cp.array(row), cp.array(col))), shape=(n,n)).tocsr()\n",
    "    mat2 = csr_matrix((data2,(row2, col2)), shape=(n,n))\n",
    "    cmat2 = cp_coo_matrix((cp.array(data2), (cp.array(row2), cp.array(col2))), shape=(n,n)).tocsr()\n",
    "    \n",
    "    rmat = rigid_csr_matrix((data1,(row, col)), shape=(n,n))\n",
    "    \n",
    "    args = [(mat1, mat2, c), (cmat1, cmat2, c), (rmat, data2, row2, col2, c)]\n",
    "    \n",
    "    for i in range(K):\n",
    "        t = %timeit -q -n 1 -r 3 -o funcs[i](*args[i])\n",
    "        T[i].append(t.average*1000)"
   ]
  },
  {
   "cell_type": "code",
   "execution_count": 4,
   "metadata": {},
   "outputs": [
    {
     "data": {
      "image/png": "[encoded data removed]",
      "text/plain": [
       "<Figure size 432x288 with 1 Axes>"
      ]
     },
     "metadata": {
      "needs_background": "light"
     },
     "output_type": "display_data"
    }
   ],
   "source": [
    "n_groups = max(groups)+1\n",
    "fig, axs = plt.subplots(n_groups)\n",
    "plt.rcParams[\"figure.figsize\"] = (10,15)\n",
    "if n_groups == 1:\n",
    "    for i in range(K):\n",
    "        if masks[i]:\n",
    "            axs.plot(N[1:], T[i][1:], label=methods[i])\n",
    "    axs.set_xlabel(\"Size\")\n",
    "    axs.set_ylabel(\"Time(ms)\")\n",
    "    axs.legend()\n",
    "    axs.set_xscale('log')\n",
    "else:\n",
    "    for g in range(n_groups):\n",
    "        for i in range(K):\n",
    "            if masks[i] and groups[i] == g:\n",
    "                axs[g].plot(N[1:], T[i][1:], label=methods[i])\n",
    "        axs[g].set_xlabel(\"Size\")\n",
    "        axs[g].set_ylabel(\"Time(ms)\")\n",
    "        axs[g].legend()\n",
    "        axs[g].set_xscale('log')\n",
    "plt.show()"
   ]
  },
  {
   "cell_type": "code",
   "execution_count": 5,
   "metadata": {},
   "outputs": [
    {
     "name": "stdout",
     "output_type": "stream",
     "text": [
      "[[0.23841299965473203, 0.22796099923046617, 0.22748133415007032, 0.21802899937028997, 0.24363166448893026, 0.22705499941366725, 0.23542699879423404, 0.24231833352435692, 0.24985133374381502, 0.258335664208668, 0.27220933164547506, 0.3055066663364414, 0.33599866704510833, 0.4842356684093829, 0.44811099966561113, 0.5178516657906584, 0.6636006667880187, 0.8433780009606077, 1.3077249993026878, 1.8628553334565368, 2.6642513330443762, 4.271837999112904, 7.868672000768129, 9.949903000233462, 12.919487332207305, 17.343330334066803, 24.983176666864892, 34.922803667238135], [4.2894523321592715, 1.9641939979919698, 2.000593999885799, 1.971941334583486, 3.0392176668101456, 3.1060009993476947, 3.0715019990263195, 3.109625665577672, 3.163380668411264, 3.1537146678601857, 3.2299890020415964, 3.3065006658337857, 3.5131653336672266, 5.050261666231866, 3.993223331538805, 4.6617989998291405, 5.877329000213649, 8.125342999846907, 12.412547333951807, 16.582388333821047, 22.1210906674969, 29.480830333341146, 51.41926366559346, 75.48499933303295, 90.64943933359852, 131.029781333685, 194.9381450006816, 282.5707399994523], [373.8598129990957, 0.3395266673275425, 0.3375610006817927, 0.2981146668995886, 0.3170086662673081, 0.31637766611917567, 0.3439533320488408, 0.3136346676910762, 0.3249550002995723, 0.34157266782131046, 0.34596799984380294, 0.2907263333327137, 0.3177506672121429, 0.38417433340024826, 0.34359466614356887, 0.3488833329659731, 0.3573113329669771, 0.3929116671012404, 0.3756053338292986, 0.5478093335113954, 0.5509960004322542, 1.0065999995276798, 1.8206853346782736, 4.262905999591264, 5.405833332285208, 7.552459999715211, 10.891096334186537, 14.398568332884073]]\n"
     ]
    }
   ],
   "source": [
    "print(T)"
   ]
  },
  {
   "cell_type": "code",
   "execution_count": null,
   "metadata": {},
   "outputs": [],
   "source": []
  }
 ],
 "metadata": {
  "kernelspec": {
   "display_name": "Python 3",
   "language": "python",
   "name": "python3"
  },
  "language_info": {
   "codemirror_mode": {
    "name": "ipython",
    "version": 3
   },
   "file_extension": ".py",
   "mimetype": "text/x-python",
   "name": "python",
   "nbconvert_exporter": "python",
   "pygments_lexer": "ipython3",
   "version": "3.6.9"
  }
 },
 "nbformat": 4,
 "nbformat_minor": 4
}
