{
 "cells": [
  {
   "cell_type": "code",
   "execution_count": 1,
   "metadata": {},
   "outputs": [],
   "source": [
    "import numpy as np\n",
    "import cupy as cp\n",
    "from numba import jit, prange\n",
    "import timeit\n",
    "import matplotlib.pyplot as plt"
   ]
  },
  {
   "cell_type": "code",
   "execution_count": 2,
   "metadata": {},
   "outputs": [],
   "source": [
    "def matmat_base(a, b):\n",
    "    c = np.dot(a, b)\n",
    "\n",
    "def matmat_cp(a, b):\n",
    "    c = cp.dot(a, b)\n",
    "    \n",
    "@jit(nopython=True)\n",
    "def matmat_nb(a, b):\n",
    "    c = np.dot(a, b)\n",
    "    \n",
    "@jit(nopython=True, parallel=True)\n",
    "def matmat_nb_parallel(a, b):\n",
    "    c = np.dot(a, b)"
   ]
  },
  {
   "cell_type": "code",
   "execution_count": 3,
   "metadata": {},
   "outputs": [
    {
     "name": "stdout",
     "output_type": "stream",
     "text": [
      "Start with size: 8\n"
     ]
    },
    {
     "name": "stderr",
     "output_type": "stream",
     "text": [
      "/home/alm818/.local/lib/python3.6/site-packages/numba/typed_passes.py:293: NumbaPerformanceWarning: \u001b[1m\n",
      "The keyword argument 'parallel=True' was specified but no transformation for parallel execution was possible.\n",
      "\n",
      "To find out why, try turning on parallel diagnostics, see http://numba.pydata.org/numba-doc/latest/user/parallel.html#diagnostics for help.\n",
      "\u001b[1m\n",
      "File \"<ipython-input-2-b71babf17c74>\", line 12:\u001b[0m\n",
      "\u001b[1m@jit(nopython=True, parallel=True)\n",
      "\u001b[1mdef matmat_nb_parallel(a, b):\n",
      "\u001b[0m\u001b[1m^\u001b[0m\u001b[0m\n",
      "\u001b[0m\n",
      "  state.func_ir.loc))\n"
     ]
    },
    {
     "name": "stdout",
     "output_type": "stream",
     "text": [
      "Start with size: 11\n",
      "Start with size: 16\n",
      "Start with size: 22\n",
      "Start with size: 32\n",
      "Start with size: 45\n",
      "Start with size: 64\n",
      "Start with size: 90\n",
      "Start with size: 128\n",
      "Start with size: 181\n",
      "Start with size: 256\n",
      "Start with size: 362\n",
      "Start with size: 512\n",
      "Start with size: 724\n",
      "Start with size: 1024\n",
      "Start with size: 1448\n",
      "Start with size: 2048\n",
      "Start with size: 2896\n"
     ]
    }
   ],
   "source": [
    "N = [int(8*(2**(0.5))**i) for i in range(18)]\n",
    "methods = [\"base\", \"cp\", \"nb\", \"nb_parallel\"]\n",
    "K = len(methods)\n",
    "funcs = [matmat_base, matmat_cp, matmat_nb, matmat_nb_parallel]\n",
    "T = [[] for i in range(K)]\n",
    "for n in N:\n",
    "    print(\"Start with size:\", n)\n",
    "    a = np.random.rand(n, n)\n",
    "    b = np.random.rand(n, n)\n",
    "    ca = cp.array(a)\n",
    "    cb = cp.array(b)\n",
    "    \n",
    "    args = [(a,b), (ca,cb), (a,b), (a,b)]\n",
    "    \n",
    "    for i in range(K):\n",
    "        t = %timeit -q -n 1 -r 3 -o funcs[i](*args[i])\n",
    "        T[i].append(t.average*1000)"
   ]
  },
  {
   "cell_type": "code",
   "execution_count": 4,
   "metadata": {},
   "outputs": [
    {
     "data": {
      "image/png": "[encoded data removed]",
      "text/plain": [
       "<Figure size 432x288 with 1 Axes>"
      ]
     },
     "metadata": {
      "needs_background": "light"
     },
     "output_type": "display_data"
    }
   ],
   "source": [
    "for i in range(K):\n",
    "    plt.plot(N[1:], T[i][1:], label=methods[i])\n",
    "plt.xlabel(\"Size\")\n",
    "plt.ylabel(\"Time(ms)\")\n",
    "plt.legend()\n",
    "plt.xscale('log')\n",
    "plt.show()"
   ]
  },
  {
   "cell_type": "code",
   "execution_count": null,
   "metadata": {},
   "outputs": [],
   "source": []
  }
 ],
 "metadata": {
  "kernelspec": {
   "display_name": "Python 3",
   "language": "python",
   "name": "python3"
  },
  "language_info": {
   "codemirror_mode": {
    "name": "ipython",
    "version": 3
   },
   "file_extension": ".py",
   "mimetype": "text/x-python",
   "name": "python",
   "nbconvert_exporter": "python",
   "pygments_lexer": "ipython3",
   "version": "3.6.9"
  }
 },
 "nbformat": 4,
 "nbformat_minor": 4
}
