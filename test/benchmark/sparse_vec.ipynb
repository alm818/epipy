{
 "cells": [
  {
   "cell_type": "code",
   "execution_count": 1,
   "metadata": {},
   "outputs": [],
   "source": [
    "import numpy as np\n",
    "import cupy as cp\n",
    "from numba import jit, prange\n",
    "import timeit\n",
    "import matplotlib.pyplot as plt\n",
    "from scipy.sparse import coo_matrix\n",
    "from cupyx.scipy.sparse import coo_matrix as cp_coo_matrix"
   ]
  },
  {
   "cell_type": "code",
   "execution_count": 2,
   "metadata": {},
   "outputs": [],
   "source": [
    "def sv_base(mat, b):\n",
    "    res = mat * b\n",
    "    \n",
    "def sv_cp(mat, b):\n",
    "    res = mat * b\n",
    "    \n",
    "@jit(nopython=True, parallel=True)\n",
    "def sv_nb(A, iA, jA, b):\n",
    "    res = np.zeros(b.shape[0])\n",
    "    for row in prange(len(iA)-1):\n",
    "        for i in prange(iA[row], iA[row+1]):\n",
    "            res[row] += A[i]*b[jA[i]] \n",
    "    return res\n",
    "    \n",
    "@jit(nopython=True, parallel=True)\n",
    "def sv_nb2(A, iA, jA, b):\n",
    "    res = np.zeros(b.shape[0])\n",
    "    for row in prange(len(iA)-1):\n",
    "        for i in range(iA[row], iA[row+1]):\n",
    "            res[row] += A[i]*b[jA[i]] \n",
    "    return res"
   ]
  },
  {
   "cell_type": "code",
   "execution_count": 3,
   "metadata": {},
   "outputs": [
    {
     "name": "stdout",
     "output_type": "stream",
     "text": [
      "Start with size: 8\n",
      "Start with size: 11\n",
      "Start with size: 16\n",
      "Start with size: 22\n",
      "Start with size: 32\n",
      "Start with size: 45\n",
      "Start with size: 64\n",
      "Start with size: 90\n",
      "Start with size: 128\n",
      "Start with size: 181\n",
      "Start with size: 256\n",
      "Start with size: 362\n",
      "Start with size: 512\n",
      "Start with size: 724\n",
      "Start with size: 1024\n",
      "Start with size: 1448\n",
      "Start with size: 2048\n",
      "Start with size: 2896\n",
      "Start with size: 4096\n",
      "Start with size: 5792\n",
      "Start with size: 8192\n",
      "Start with size: 11585\n",
      "Start with size: 16384\n",
      "Start with size: 23170\n",
      "Start with size: 32768\n",
      "Start with size: 46340\n",
      "Start with size: 65536\n",
      "Start with size: 92681\n"
     ]
    }
   ],
   "source": [
    "N = [int(8*(2**0.5)**i) for i in range(28)]\n",
    "methods = [\"sv_base\", \"sv_cp\", \"sv_nb\", \"sv_nb2\"]\n",
    "K = len(methods)\n",
    "funcs = [sv_base, sv_cp, sv_nb, sv_nb2]\n",
    "masks = [1, 1, 1, 1]\n",
    "groups = [0, 0, 0, 0]\n",
    "T = [[] for i in range(K)]\n",
    "deg = 40\n",
    "for n in N:\n",
    "    print(\"Start with size:\", n)\n",
    "    row, col = np.random.randint(0, n, (2, n*deg))\n",
    "    data = np.random.rand(n*deg)\n",
    "    b = np.random.rand(n)\n",
    "    cb = cp.array(b)\n",
    "    mat = coo_matrix((data,(row, col)), shape=(n,n)).tocsr()\n",
    "    cmat = cp_coo_matrix((cp.array(data), (cp.array(row), cp.array(col))), shape=(n,n)).tocsr()\n",
    "    \n",
    "    res = np.zeros(n)\n",
    "    args = [(mat, b), (cmat, cb), (mat.data, mat.indptr, mat.indices, b), (mat.data, mat.indptr, mat.indices, b)]\n",
    "    \n",
    "    for i in range(K):\n",
    "        t = %timeit -q -n 1 -r 3 -o funcs[i](*args[i])\n",
    "        T[i].append(t.average*1000)"
   ]
  },
  {
   "cell_type": "code",
   "execution_count": 4,
   "metadata": {},
   "outputs": [
    {
     "data": {
      "image/png": "[encoded data removed]",
      "text/plain": [
       "<Figure size 432x288 with 1 Axes>"
      ]
     },
     "metadata": {
      "needs_background": "light"
     },
     "output_type": "display_data"
    }
   ],
   "source": [
    "n_groups = max(groups)+1\n",
    "fig, axs = plt.subplots(n_groups)\n",
    "plt.rcParams[\"figure.figsize\"] = (10,15)\n",
    "if n_groups == 1:\n",
    "    for i in range(K):\n",
    "        if masks[i]:\n",
    "            axs.plot(N[1:], T[i][1:], label=methods[i])\n",
    "    axs.set_xlabel(\"Size\")\n",
    "    axs.set_ylabel(\"Time(ms)\")\n",
    "    axs.legend()\n",
    "    axs.set_xscale('log')\n",
    "else:\n",
    "    for g in range(n_groups):\n",
    "        for i in range(K):\n",
    "            if masks[i] and groups[i] == g:\n",
    "                axs[g].plot(N[1:], T[i][1:], label=methods[i])\n",
    "        axs[g].set_xlabel(\"Size\")\n",
    "        axs[g].set_ylabel(\"Time(ms)\")\n",
    "        axs[g].legend()\n",
    "        axs[g].set_xscale('log')\n",
    "plt.show()"
   ]
  },
  {
   "cell_type": "code",
   "execution_count": 5,
   "metadata": {},
   "outputs": [
    {
     "name": "stdout",
     "output_type": "stream",
     "text": [
      "[[0.050979999893267326, 0.00790499810439845, 0.00874733329207326, 0.0074796674501461284, 0.007889999930436412, 0.009965334659985578, 0.010586667485767975, 0.012091334307721505, 0.011413000417329991, 0.0135656652370623, 0.01625433408965667, 0.0202370004747839, 0.024759998874894034, 0.0345940000746244, 0.04265099899688115, 0.05617799979518168, 0.33818133306340314, 0.11345333283922325, 0.15911366669267105, 0.24717033375054598, 0.3629779991266939, 0.5049596669171782, 0.7113573337846901, 1.0308603341400158, 1.63601033273153, 2.9082536675559822, 4.891491000307724, 7.3217996675036074], [0.8909693339470929, 0.4133066662082759, 0.4075433328883567, 0.4241986668300039, 0.6525986670264198, 0.6501686669556269, 0.6628013337225033, 0.6715899993044635, 0.689489332823238, 0.6805889994817941, 0.7173499992253104, 0.7376913332943028, 0.7545706672923794, 0.7698846663212559, 0.834548666413563, 0.9295083339869356, 1.5254156678565778, 1.4849203325866256, 2.0926759995442503, 3.003064998968815, 4.141864335300245, 5.9402433325885795, 8.469304333023805, 12.72212499922413, 18.019862999305285, 25.776215332977397, 37.91252566710076, 55.27649766615165], [150.3116803348045, 0.1354723341743617, 0.07699466732447036, 0.10397233442442182, 0.245619999380627, 0.09850333299254999, 0.0921936662052758, 0.15367933277351162, 0.19067933317273855, 0.1609926669819591, 0.1968240006438767, 0.15488866726324582, 0.21453799854498357, 0.1890679995995015, 0.1316906673309859, 0.19019666554716727, 0.21541166643146425, 0.2228313339098046, 0.23079299959742153, 0.2366446666807557, 0.2424300012838406, 0.4158696659336177, 0.5933690008532722, 1.0458216662906732, 1.420150666187207, 1.8132256664102897, 2.6283220019346722, 3.526767664880026], [131.93996133486507, 0.07684466739495595, 0.07606600047438405, 0.0763073330745101, 0.07990600109527198, 0.0797903327717601, 0.08210100107438241, 0.08029500168049708, 0.0772393323131837, 0.07776433267281391, 0.07763699977658689, 0.07764000110910274, 0.11218000023897427, 0.08101899948087521, 0.08188100036932155, 0.08515866647940129, 0.15855533395855068, 0.11433566517856282, 0.13051799881698875, 0.1534650000394322, 0.19413133365257332, 0.28118833385330316, 0.3794356671278365, 0.593388000803922, 1.1529016665008385, 1.7389583323771756, 2.4958569993032143, 3.599023667144744]]\n"
     ]
    }
   ],
   "source": [
    "print(T)"
   ]
  },
  {
   "cell_type": "code",
   "execution_count": null,
   "metadata": {},
   "outputs": [],
   "source": []
  }
 ],
 "metadata": {
  "kernelspec": {
   "display_name": "Python 3",
   "language": "python",
   "name": "python3"
  },
  "language_info": {
   "codemirror_mode": {
    "name": "ipython",
    "version": 3
   },
   "file_extension": ".py",
   "mimetype": "text/x-python",
   "name": "python",
   "nbconvert_exporter": "python",
   "pygments_lexer": "ipython3",
   "version": "3.6.9"
  }
 },
 "nbformat": 4,
 "nbformat_minor": 4
}
