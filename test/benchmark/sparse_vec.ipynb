{
 "cells": [
  {
   "cell_type": "code",
   "execution_count": 1,
   "metadata": {},
   "outputs": [],
   "source": [
    "import numpy as np\n",
    "import cupy as cp\n",
    "from numba import jit, prange\n",
    "import timeit\n",
    "import matplotlib.pyplot as plt\n",
    "from scipy.sparse import coo_matrix\n",
    "from cupyx.scipy.sparse import coo_matrix as cp_coo_matrix"
   ]
  },
  {
   "cell_type": "code",
   "execution_count": 2,
   "metadata": {},
   "outputs": [],
   "source": [
    "def sv_base(mat, b):\n",
    "    res = mat * b\n",
    "    \n",
    "def sv_cp(mat, b):\n",
    "    res = mat * b\n",
    "    \n",
    "@jit(nopython=True, parallel=True)\n",
    "def sv_nb(A, iA, jA, b, res):\n",
    "    for row in prange(len(iA)-1):\n",
    "        res[row] = 0\n",
    "        for i in prange(iA[row], iA[row+1]):\n",
    "            res[row] += A[i]*b[jA[i]] "
   ]
  },
  {
   "cell_type": "code",
   "execution_count": 3,
   "metadata": {},
   "outputs": [
    {
     "name": "stdout",
     "output_type": "stream",
     "text": [
      "Start with size: 8\n",
      "Start with size: 11\n",
      "Start with size: 16\n",
      "Start with size: 22\n",
      "Start with size: 32\n",
      "Start with size: 45\n",
      "Start with size: 64\n",
      "Start with size: 90\n",
      "Start with size: 128\n",
      "Start with size: 181\n",
      "Start with size: 256\n",
      "Start with size: 362\n",
      "Start with size: 512\n",
      "Start with size: 724\n",
      "Start with size: 1024\n",
      "Start with size: 1448\n",
      "Start with size: 2048\n",
      "Start with size: 2896\n",
      "Start with size: 4096\n",
      "Start with size: 5792\n",
      "Start with size: 8192\n",
      "Start with size: 11585\n",
      "Start with size: 16384\n",
      "Start with size: 23170\n",
      "Start with size: 32768\n",
      "Start with size: 46340\n",
      "Start with size: 65536\n",
      "Start with size: 92681\n"
     ]
    }
   ],
   "source": [
    "N = [int(8*(2**0.5)**i) for i in range(28)]\n",
    "methods = [\"sv_base\", \"sv_cp\", \"sv_nb\"]\n",
    "K = len(methods)\n",
    "funcs = [sv_base, sv_cp, sv_nb]\n",
    "masks = [1, 1, 1]\n",
    "groups = [0, 0, 0]\n",
    "T = [[] for i in range(K)]\n",
    "deg = 40\n",
    "for n in N:\n",
    "    print(\"Start with size:\", n)\n",
    "    row, col = np.random.randint(0, n, (2, n*deg))\n",
    "    data = np.random.rand(n*deg)\n",
    "    b = np.random.rand(n)\n",
    "    cb = cp.array(b)\n",
    "    mat = coo_matrix((data,(row, col)), shape=(n,n)).tocsr()\n",
    "    cmat = cp_coo_matrix((cp.array(data), (cp.array(row), cp.array(col))), shape=(n,n)).tocsr()\n",
    "    \n",
    "    res = np.zeros(n)\n",
    "    args = [(mat, b), (cmat, cb), (mat.data, mat.indptr, mat.indices, b, res)]\n",
    "    \n",
    "    for i in range(K):\n",
    "        t = %timeit -q -n 1 -r 3 -o funcs[i](*args[i])\n",
    "        T[i].append(t.average*1000)"
   ]
  },
  {
   "cell_type": "code",
   "execution_count": 4,
   "metadata": {},
   "outputs": [
    {
     "data": {
      "image/png": "[encoded data removed]",
      "text/plain": [
       "<Figure size 432x288 with 1 Axes>"
      ]
     },
     "metadata": {
      "needs_background": "light"
     },
     "output_type": "display_data"
    }
   ],
   "source": [
    "n_groups = max(groups)+1\n",
    "fig, axs = plt.subplots(n_groups)\n",
    "plt.rcParams[\"figure.figsize\"] = (10,15)\n",
    "if n_groups == 1:\n",
    "    for i in range(K):\n",
    "        if masks[i]:\n",
    "            axs.plot(N[1:], T[i][1:], label=methods[i])\n",
    "    axs.set_xlabel(\"Size\")\n",
    "    axs.set_ylabel(\"Time(ms)\")\n",
    "    axs.legend()\n",
    "    axs.set_xscale('log')\n",
    "else:\n",
    "    for g in range(n_groups):\n",
    "        for i in range(K):\n",
    "            if masks[i] and groups[i] == g:\n",
    "                axs[g].plot(N[1:], T[i][1:], label=methods[i])\n",
    "        axs[g].set_xlabel(\"Size\")\n",
    "        axs[g].set_ylabel(\"Time(ms)\")\n",
    "        axs[g].legend()\n",
    "        axs[g].set_xscale('log')\n",
    "plt.show()"
   ]
  },
  {
   "cell_type": "code",
   "execution_count": 5,
   "metadata": {},
   "outputs": [
    {
     "name": "stdout",
     "output_type": "stream",
     "text": [
      "[[0.019735666531535873, 0.00777033331663309, 0.00857466648085392, 0.007640999986809524, 0.008325666537227031, 0.010169333412098544, 0.009364666614904612, 0.011049000022467226, 0.011095666650362546, 0.012852666562442513, 0.015783333310537273, 0.01960066659497291, 0.025205666588590248, 0.031876333347706044, 0.04678533332480583, 0.05538166669794009, 0.08866833316763707, 0.11131199986872768, 0.1622253333456077, 0.23543833337195488, 0.3533426667369592, 0.4860636668126972, 0.8295486668430385, 1.0445433332885539, 1.6070136665196817, 2.8358900000663803, 4.550713999985116, 7.058538666721385], [0.5205473332049829, 0.40117533323306515, 0.4145966668147594, 0.42871966661550687, 0.6667839998044656, 0.6720429999707752, 0.6770733333117581, 0.6938623332644056, 0.6928693334581718, 0.6985476669190879, 0.6967046665522503, 0.7023063333993681, 0.7419606668008782, 0.7614643333605878, 0.8304129999790651, 0.9172466666313994, 1.1140709999987546, 1.4673426665770724, 2.0979836666204696, 2.911769000093045, 4.146833333379618, 5.977547666740672, 8.427113666736355, 12.060196333398684, 17.910551666773245, 25.74982599996171, 38.100077000156794, 55.4282376666985], [261.11586100008327, 0.09303699986655072, 0.12096366678330621, 0.11329699994651794, 0.08069500017882092, 0.06240500003211007, 0.09446833337278804, 0.09885500003292691, 0.1229843333021563, 0.09060233333002543, 0.10728266670412268, 0.10887233323349695, 0.10013700011768378, 0.12967899995904494, 0.11442566665209597, 0.12451500000073187, 0.07973233323355089, 0.1563356665125563, 0.13736300009744204, 0.4846793334157458, 0.23680066669840016, 0.35178399987974746, 0.5489889999807929, 0.743081333439477, 1.2562009998570527, 1.6927853334891552, 2.2964256668274174, 3.2752810000905206]]\n"
     ]
    }
   ],
   "source": [
    "print(T)"
   ]
  },
  {
   "cell_type": "code",
   "execution_count": null,
   "metadata": {},
   "outputs": [],
   "source": []
  }
 ],
 "metadata": {
  "kernelspec": {
   "display_name": "Python 3",
   "language": "python",
   "name": "python3"
  },
  "language_info": {
   "codemirror_mode": {
    "name": "ipython",
    "version": 3
   },
   "file_extension": ".py",
   "mimetype": "text/x-python",
   "name": "python",
   "nbconvert_exporter": "python",
   "pygments_lexer": "ipython3",
   "version": "3.6.9"
  }
 },
 "nbformat": 4,
 "nbformat_minor": 4
}
